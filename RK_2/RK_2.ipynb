{
 "cells": [
  {
   "cell_type": "markdown",
   "id": "36f525f7",
   "metadata": {},
   "source": [
    "# Рубежный контроль №2\n",
    "## Методы построения моделей машинного обучения\n",
    "## Алиев Тимур РТ5-61Б вариант №1"
   ]
  },
  {
   "cell_type": "code",
   "execution_count": 1,
   "id": "2832d0b8",
   "metadata": {},
   "outputs": [],
   "source": [
    "# Импорт библиотек\n",
    "from operator import itemgetter\n",
    "from sklearn.datasets import load_boston\n",
    "from sklearn.model_selection import train_test_split, GridSearchCV\n",
    "from sklearn.tree import DecisionTreeClassifier, export_graphviz\n",
    "from sklearn.ensemble import GradientBoostingClassifier\n",
    "from sklearn.metrics import accuracy_score, precision_score, recall_score, f1_score\n",
    "from sklearn.metrics import ConfusionMatrixDisplay\n",
    "from sklearn.tree import DecisionTreeRegressor, export_graphviz, export_text\n",
    "from sklearn.metrics import r2_score, mean_squared_error, mean_absolute_error\n",
    "from sklearn.preprocessing import StandardScaler, MinMaxScaler\n",
    "from sklearn.ensemble import AdaBoostClassifier\n",
    "\n",
    "import numpy as np\n",
    "import pandas as pd\n",
    "import matplotlib.pyplot as plt\n",
    "import seaborn as sns\n",
    "import graphviz\n",
    "\n",
    "%matplotlib inline\n",
    "sns.set(style='ticks')\n"
   ]
  },
  {
   "cell_type": "code",
   "execution_count": 2,
   "id": "ca621e9f",
   "metadata": {},
   "outputs": [
    {
     "name": "stderr",
     "output_type": "stream",
     "text": [
      "C:\\Users\\Truma\\AppData\\Local\\Programs\\Python\\Python310\\lib\\site-packages\\sklearn\\utils\\deprecation.py:87: FutureWarning: Function load_boston is deprecated; `load_boston` is deprecated in 1.0 and will be removed in 1.2.\n",
      "\n",
      "    The Boston housing prices dataset has an ethical problem. You can refer to\n",
      "    the documentation of this function for further details.\n",
      "\n",
      "    The scikit-learn maintainers therefore strongly discourage the use of this\n",
      "    dataset unless the purpose of the code is to study and educate about\n",
      "    ethical issues in data science and machine learning.\n",
      "\n",
      "    In this special case, you can fetch the dataset from the original\n",
      "    source::\n",
      "\n",
      "        import pandas as pd\n",
      "        import numpy as np\n",
      "\n",
      "\n",
      "        data_url = \"http://lib.stat.cmu.edu/datasets/boston\"\n",
      "        raw_df = pd.read_csv(data_url, sep=\"\\s+\", skiprows=22, header=None)\n",
      "        data = np.hstack([raw_df.values[::2, :], raw_df.values[1::2, :2]])\n",
      "        target = raw_df.values[1::2, 2]\n",
      "\n",
      "    Alternative datasets include the California housing dataset (i.e.\n",
      "    :func:`~sklearn.datasets.fetch_california_housing`) and the Ames housing\n",
      "    dataset. You can load the datasets as follows::\n",
      "\n",
      "        from sklearn.datasets import fetch_california_housing\n",
      "        housing = fetch_california_housing()\n",
      "\n",
      "    for the California housing dataset and::\n",
      "\n",
      "        from sklearn.datasets import fetch_openml\n",
      "        housing = fetch_openml(name=\"house_prices\", as_frame=True)\n",
      "\n",
      "    for the Ames housing dataset.\n",
      "    \n",
      "  warnings.warn(msg, category=FutureWarning)\n"
     ]
    }
   ],
   "source": [
    "# Загрузка датасета\n",
    "boston = load_boston()"
   ]
  },
  {
   "cell_type": "code",
   "execution_count": 3,
   "id": "f7948ea2",
   "metadata": {},
   "outputs": [
    {
     "data": {
      "text/plain": [
       "array(['CRIM', 'ZN', 'INDUS', 'CHAS', 'NOX', 'RM', 'AGE', 'DIS', 'RAD',\n",
       "       'TAX', 'PTRATIO', 'B', 'LSTAT'], dtype='<U7')"
      ]
     },
     "execution_count": 3,
     "metadata": {},
     "output_type": "execute_result"
    }
   ],
   "source": [
    "# Наименования признаков\n",
    "boston.feature_names"
   ]
  },
  {
   "cell_type": "code",
   "execution_count": 4,
   "id": "3ce92cd6",
   "metadata": {},
   "outputs": [
    {
     "data": {
      "text/plain": [
       "array([[6.3200e-03, 1.8000e+01, 2.3100e+00, 0.0000e+00, 5.3800e-01,\n",
       "        6.5750e+00, 6.5200e+01, 4.0900e+00, 1.0000e+00, 2.9600e+02,\n",
       "        1.5300e+01, 3.9690e+02, 4.9800e+00],\n",
       "       [2.7310e-02, 0.0000e+00, 7.0700e+00, 0.0000e+00, 4.6900e-01,\n",
       "        6.4210e+00, 7.8900e+01, 4.9671e+00, 2.0000e+00, 2.4200e+02,\n",
       "        1.7800e+01, 3.9690e+02, 9.1400e+00],\n",
       "       [2.7290e-02, 0.0000e+00, 7.0700e+00, 0.0000e+00, 4.6900e-01,\n",
       "        7.1850e+00, 6.1100e+01, 4.9671e+00, 2.0000e+00, 2.4200e+02,\n",
       "        1.7800e+01, 3.9283e+02, 4.0300e+00],\n",
       "       [3.2370e-02, 0.0000e+00, 2.1800e+00, 0.0000e+00, 4.5800e-01,\n",
       "        6.9980e+00, 4.5800e+01, 6.0622e+00, 3.0000e+00, 2.2200e+02,\n",
       "        1.8700e+01, 3.9463e+02, 2.9400e+00],\n",
       "       [6.9050e-02, 0.0000e+00, 2.1800e+00, 0.0000e+00, 4.5800e-01,\n",
       "        7.1470e+00, 5.4200e+01, 6.0622e+00, 3.0000e+00, 2.2200e+02,\n",
       "        1.8700e+01, 3.9690e+02, 5.3300e+00]])"
      ]
     },
     "execution_count": 4,
     "metadata": {},
     "output_type": "execute_result"
    }
   ],
   "source": [
    "# Значения признаков\n",
    "boston.data[:5]"
   ]
  },
  {
   "cell_type": "code",
   "execution_count": 5,
   "id": "f35c88a5",
   "metadata": {},
   "outputs": [
    {
     "data": {
      "text/plain": [
       "array([ 5. ,  5.6,  6.3,  7. ,  7.2,  7.4,  7.5,  8.1,  8.3,  8.4,  8.5,\n",
       "        8.7,  8.8,  9.5,  9.6,  9.7, 10.2, 10.4, 10.5, 10.8, 10.9, 11. ,\n",
       "       11.3, 11.5, 11.7, 11.8, 11.9, 12. , 12.1, 12.3, 12.5, 12.6, 12.7,\n",
       "       12.8, 13. , 13.1, 13.2, 13.3, 13.4, 13.5, 13.6, 13.8, 13.9, 14. ,\n",
       "       14.1, 14.2, 14.3, 14.4, 14.5, 14.6, 14.8, 14.9, 15. , 15.1, 15.2,\n",
       "       15.3, 15.4, 15.6, 15.7, 16. , 16.1, 16.2, 16.3, 16.4, 16.5, 16.6,\n",
       "       16.7, 16.8, 17. , 17.1, 17.2, 17.3, 17.4, 17.5, 17.6, 17.7, 17.8,\n",
       "       17.9, 18. , 18.1, 18.2, 18.3, 18.4, 18.5, 18.6, 18.7, 18.8, 18.9,\n",
       "       19. , 19.1, 19.2, 19.3, 19.4, 19.5, 19.6, 19.7, 19.8, 19.9, 20. ,\n",
       "       20.1, 20.2, 20.3, 20.4, 20.5, 20.6, 20.7, 20.8, 20.9, 21. , 21.1,\n",
       "       21.2, 21.4, 21.5, 21.6, 21.7, 21.8, 21.9, 22. , 22.1, 22.2, 22.3,\n",
       "       22.4, 22.5, 22.6, 22.7, 22.8, 22.9, 23. , 23.1, 23.2, 23.3, 23.4,\n",
       "       23.5, 23.6, 23.7, 23.8, 23.9, 24. , 24.1, 24.2, 24.3, 24.4, 24.5,\n",
       "       24.6, 24.7, 24.8, 25. , 25.1, 25.2, 25.3, 26.2, 26.4, 26.5, 26.6,\n",
       "       26.7, 27. , 27.1, 27.5, 27.9, 28. , 28.1, 28.2, 28.4, 28.5, 28.6,\n",
       "       28.7, 29. , 29.1, 29.4, 29.6, 29.8, 29.9, 30.1, 30.3, 30.5, 30.7,\n",
       "       30.8, 31. , 31.1, 31.2, 31.5, 31.6, 31.7, 32. , 32.2, 32.4, 32.5,\n",
       "       32.7, 32.9, 33. , 33.1, 33.2, 33.3, 33.4, 33.8, 34.6, 34.7, 34.9,\n",
       "       35.1, 35.2, 35.4, 36. , 36.1, 36.2, 36.4, 36.5, 37. , 37.2, 37.3,\n",
       "       37.6, 37.9, 38.7, 39.8, 41.3, 41.7, 42.3, 42.8, 43.1, 43.5, 43.8,\n",
       "       44. , 44.8, 45.4, 46. , 46.7, 48.3, 48.5, 48.8, 50. ])"
      ]
     },
     "execution_count": 5,
     "metadata": {},
     "output_type": "execute_result"
    }
   ],
   "source": [
    "# Значение целевого признака\n",
    "np.unique(boston.target)"
   ]
  },
  {
   "cell_type": "code",
   "execution_count": 6,
   "id": "fb9a4c3d",
   "metadata": {},
   "outputs": [
    {
     "data": {
      "text/plain": [
       "((506, 13), (506,))"
      ]
     },
     "execution_count": 6,
     "metadata": {},
     "output_type": "execute_result"
    }
   ],
   "source": [
    "# Размер выборки\n",
    "boston.data.shape, boston.target.shape"
   ]
  },
  {
   "cell_type": "code",
   "execution_count": 7,
   "id": "33950274",
   "metadata": {},
   "outputs": [],
   "source": [
    "# Сформируем DataFrame\n",
    "data_url = \"http://lib.stat.cmu.edu/datasets/boston\"\n",
    "raw_df = pd.read_csv(data_url, sep=\"\\s+\", skiprows=22, header=None)\n",
    "data = np.hstack([raw_df.values[::2, :], raw_df.values[1::2, :2]])\n",
    "target = raw_df.values[1::2, 2]\n",
    "\n",
    "raw_df.rename(columns={0: 'CRIM'}, inplace=True)\n",
    "raw_df.rename(columns={1: 'ZN'}, inplace=True)\n",
    "raw_df.rename(columns={2: 'INDUS'}, inplace=True)\n",
    "raw_df.rename(columns={3: 'CHAS'}, inplace=True)\n",
    "raw_df.rename(columns={4: 'NOX'}, inplace=True)\n",
    "raw_df.rename(columns={5: 'RM'}, inplace=True)\n",
    "raw_df.rename(columns={6: 'AGE'}, inplace=True)\n",
    "raw_df.rename(columns={7: 'DIS'}, inplace=True)\n",
    "raw_df.rename(columns={8: 'RAD'}, inplace=True)\n",
    "raw_df.rename(columns={9: 'TAX'}, inplace=True)\n",
    "raw_df.rename(columns={10: 'PTRATIO'}, inplace=True)"
   ]
  },
  {
   "cell_type": "code",
   "execution_count": 8,
   "id": "7e2b67e3",
   "metadata": {},
   "outputs": [
    {
     "data": {
      "text/plain": [
       "((1012, 11), (506, 11))"
      ]
     },
     "execution_count": 8,
     "metadata": {},
     "output_type": "execute_result"
    }
   ],
   "source": [
    "# Удаление строк, содержащих пустые значения\n",
    "raw_df_2 = raw_df.dropna(axis=0, how='any')\n",
    "(raw_df.shape, raw_df_2.shape)"
   ]
  },
  {
   "cell_type": "code",
   "execution_count": 9,
   "id": "2a9bb99c",
   "metadata": {},
   "outputs": [
    {
     "name": "stdout",
     "output_type": "stream",
     "text": [
      "CRIM - 0\n",
      "ZN - 0\n",
      "INDUS - 0\n",
      "CHAS - 0\n",
      "NOX - 0\n",
      "RM - 0\n",
      "AGE - 0\n",
      "DIS - 0\n",
      "RAD - 0\n",
      "TAX - 0\n",
      "PTRATIO - 0\n"
     ]
    }
   ],
   "source": [
    "# Проверим наличие пустых значений\n",
    "# Цикл по колонкам датасета\n",
    "for col in raw_df_2.columns:\n",
    "    # Кол-во путсых значений - все значения заполнены\n",
    "    temp_null_count = raw_df_2[raw_df_2[col].isnull()].shape[0]\n",
    "    print ('{} - {}'.format(col, temp_null_count))"
   ]
  },
  {
   "cell_type": "code",
   "execution_count": 10,
   "id": "754353d0",
   "metadata": {},
   "outputs": [
    {
     "name": "stdout",
     "output_type": "stream",
     "text": [
      "<class 'pandas.core.frame.DataFrame'>\n",
      "Int64Index: 506 entries, 0 to 1010\n",
      "Data columns (total 13 columns):\n",
      " #   Column   Non-Null Count  Dtype  \n",
      "---  ------   --------------  -----  \n",
      " 0   CRIM     506 non-null    float64\n",
      " 1   ZN       506 non-null    float64\n",
      " 2   INDUS    506 non-null    float64\n",
      " 3   CHAS     506 non-null    float64\n",
      " 4   NOX      506 non-null    float64\n",
      " 5   RM       506 non-null    float64\n",
      " 6   AGE      506 non-null    float64\n",
      " 7   DIS      506 non-null    float64\n",
      " 8   RAD      506 non-null    float64\n",
      " 9   TAX      506 non-null    float64\n",
      " 10  PTRATIO  506 non-null    float64\n",
      " 11  target   506 non-null    float64\n",
      " 12  target1  506 non-null    int16  \n",
      "dtypes: float64(12), int16(1)\n",
      "memory usage: 52.4 KB\n"
     ]
    },
    {
     "name": "stderr",
     "output_type": "stream",
     "text": [
      "C:\\Users\\Truma\\AppData\\Local\\Temp\\ipykernel_5036\\200341314.py:1: SettingWithCopyWarning: \n",
      "A value is trying to be set on a copy of a slice from a DataFrame.\n",
      "Try using .loc[row_indexer,col_indexer] = value instead\n",
      "\n",
      "See the caveats in the documentation: https://pandas.pydata.org/pandas-docs/stable/user_guide/indexing.html#returning-a-view-versus-a-copy\n",
      "  raw_df_2['target'] = target\n",
      "C:\\Users\\Truma\\AppData\\Local\\Temp\\ipykernel_5036\\200341314.py:15: SettingWithCopyWarning: \n",
      "A value is trying to be set on a copy of a slice from a DataFrame.\n",
      "Try using .loc[row_indexer,col_indexer] = value instead\n",
      "\n",
      "See the caveats in the documentation: https://pandas.pydata.org/pandas-docs/stable/user_guide/indexing.html#returning-a-view-versus-a-copy\n",
      "  raw_df_2['target1'] = target1\n"
     ]
    }
   ],
   "source": [
    "raw_df_2['target'] = target\n",
    "target1 = np.empty(len(raw_df_2['target']), dtype=np.int16)\n",
    "j = 0\n",
    "a = [0, 1, 2]\n",
    "for i in raw_df_2['target']:\n",
    "    if i <= 20 and i >= 5:\n",
    "        target1[j] = 0\n",
    "        j = j + 1\n",
    "    if i <= 35 and i > 20:\n",
    "        target1[j] = 1\n",
    "        j = j + 1\n",
    "    if i <= 50 and i > 35:\n",
    "        target1[j] = 2\n",
    "        j = j + 1\n",
    "raw_df_2['target1'] = target1\n",
    "raw_df_2.info()"
   ]
  },
  {
   "cell_type": "code",
   "execution_count": 11,
   "id": "f4b2f403",
   "metadata": {},
   "outputs": [],
   "source": [
    "boston_X_train, boston_X_test, boston_y_train, boston_y_test = train_test_split(\n",
    "    raw_df_2.drop(['target1'], axis=1), raw_df_2['target1'], test_size=0.5, random_state=17)"
   ]
  },
  {
   "cell_type": "code",
   "execution_count": 12,
   "id": "fc63ecea",
   "metadata": {},
   "outputs": [],
   "source": [
    "def print_metrics(y_true, y_pred):\n",
    "    \"\"\"\n",
    "    Функия для оценки качества модели\n",
    "\n",
    "    :param y_true: Истинные значения целевого признака\n",
    "    :param y_pred: Предсказанные значения целевого признака\n",
    "    \"\"\"\n",
    "\n",
    "    print('Accuracy: {};'.format(accuracy_score(y_true, y_pred)))\n",
    "    print('Precision: {};'.format(precision_score(y_true, y_pred, average='weighted')))\n",
    "    print('Recall: {};'.format(recall_score(y_true, y_pred, average='weighted')))\n",
    "    print('F1-score: {}.'.format(f1_score(y_true, y_pred, average='weighted')))"
   ]
  },
  {
   "cell_type": "code",
   "execution_count": 13,
   "id": "67168d15",
   "metadata": {
    "scrolled": true
   },
   "outputs": [
    {
     "data": {
      "text/html": [
       "<div>\n",
       "<style scoped>\n",
       "    .dataframe tbody tr th:only-of-type {\n",
       "        vertical-align: middle;\n",
       "    }\n",
       "\n",
       "    .dataframe tbody tr th {\n",
       "        vertical-align: top;\n",
       "    }\n",
       "\n",
       "    .dataframe thead th {\n",
       "        text-align: right;\n",
       "    }\n",
       "</style>\n",
       "<table border=\"1\" class=\"dataframe\">\n",
       "  <thead>\n",
       "    <tr style=\"text-align: right;\">\n",
       "      <th></th>\n",
       "      <th>CRIM</th>\n",
       "      <th>ZN</th>\n",
       "      <th>INDUS</th>\n",
       "      <th>CHAS</th>\n",
       "      <th>NOX</th>\n",
       "      <th>RM</th>\n",
       "      <th>AGE</th>\n",
       "      <th>DIS</th>\n",
       "      <th>RAD</th>\n",
       "      <th>TAX</th>\n",
       "      <th>PTRATIO</th>\n",
       "      <th>target</th>\n",
       "    </tr>\n",
       "  </thead>\n",
       "  <tbody>\n",
       "    <tr>\n",
       "      <th>count</th>\n",
       "      <td>2.530000e+02</td>\n",
       "      <td>2.530000e+02</td>\n",
       "      <td>2.530000e+02</td>\n",
       "      <td>253.000000</td>\n",
       "      <td>2.530000e+02</td>\n",
       "      <td>2.530000e+02</td>\n",
       "      <td>2.530000e+02</td>\n",
       "      <td>2.530000e+02</td>\n",
       "      <td>2.530000e+02</td>\n",
       "      <td>2.530000e+02</td>\n",
       "      <td>2.530000e+02</td>\n",
       "      <td>2.530000e+02</td>\n",
       "    </tr>\n",
       "    <tr>\n",
       "      <th>mean</th>\n",
       "      <td>5.616939e-17</td>\n",
       "      <td>-7.021173e-18</td>\n",
       "      <td>-5.967997e-17</td>\n",
       "      <td>0.000000</td>\n",
       "      <td>2.281881e-16</td>\n",
       "      <td>-1.011049e-15</td>\n",
       "      <td>-5.757362e-16</td>\n",
       "      <td>-2.106352e-16</td>\n",
       "      <td>-3.510587e-17</td>\n",
       "      <td>1.843058e-17</td>\n",
       "      <td>4.844610e-16</td>\n",
       "      <td>3.484257e-16</td>\n",
       "    </tr>\n",
       "    <tr>\n",
       "      <th>std</th>\n",
       "      <td>1.001982e+00</td>\n",
       "      <td>1.001982e+00</td>\n",
       "      <td>1.001982e+00</td>\n",
       "      <td>1.001982</td>\n",
       "      <td>1.001982e+00</td>\n",
       "      <td>1.001982e+00</td>\n",
       "      <td>1.001982e+00</td>\n",
       "      <td>1.001982e+00</td>\n",
       "      <td>1.001982e+00</td>\n",
       "      <td>1.001982e+00</td>\n",
       "      <td>1.001982e+00</td>\n",
       "      <td>1.001982e+00</td>\n",
       "    </tr>\n",
       "    <tr>\n",
       "      <th>min</th>\n",
       "      <td>-4.896445e-01</td>\n",
       "      <td>-4.765149e-01</td>\n",
       "      <td>-1.585390e+00</td>\n",
       "      <td>-0.276759</td>\n",
       "      <td>-1.411455e+00</td>\n",
       "      <td>-3.742422e+00</td>\n",
       "      <td>-2.362153e+00</td>\n",
       "      <td>-1.258854e+00</td>\n",
       "      <td>-1.001348e+00</td>\n",
       "      <td>-1.284044e+00</td>\n",
       "      <td>-2.667693e+00</td>\n",
       "      <td>-1.814881e+00</td>\n",
       "    </tr>\n",
       "    <tr>\n",
       "      <th>25%</th>\n",
       "      <td>-4.778570e-01</td>\n",
       "      <td>-4.765149e-01</td>\n",
       "      <td>-8.681584e-01</td>\n",
       "      <td>-0.276759</td>\n",
       "      <td>-9.555808e-01</td>\n",
       "      <td>-5.981299e-01</td>\n",
       "      <td>-7.768940e-01</td>\n",
       "      <td>-8.206675e-01</td>\n",
       "      <td>-6.646074e-01</td>\n",
       "      <td>-7.683696e-01</td>\n",
       "      <td>-4.805161e-01</td>\n",
       "      <td>-6.609675e-01</td>\n",
       "    </tr>\n",
       "    <tr>\n",
       "      <th>50%</th>\n",
       "      <td>-4.474570e-01</td>\n",
       "      <td>-4.765149e-01</td>\n",
       "      <td>-2.232402e-01</td>\n",
       "      <td>-0.276759</td>\n",
       "      <td>-1.600349e-01</td>\n",
       "      <td>-1.456454e-01</td>\n",
       "      <td>2.894877e-01</td>\n",
       "      <td>-2.232697e-01</td>\n",
       "      <td>-5.523606e-01</td>\n",
       "      <td>-4.670769e-01</td>\n",
       "      <td>2.029766e-01</td>\n",
       "      <td>-1.561302e-01</td>\n",
       "    </tr>\n",
       "    <tr>\n",
       "      <th>75%</th>\n",
       "      <td>1.132433e-01</td>\n",
       "      <td>1.022018e-01</td>\n",
       "      <td>1.017895e+00</td>\n",
       "      <td>-0.276759</td>\n",
       "      <td>6.712659e-01</td>\n",
       "      <td>5.432726e-01</td>\n",
       "      <td>9.014046e-01</td>\n",
       "      <td>6.066735e-01</td>\n",
       "      <td>1.580328e+00</td>\n",
       "      <td>1.485531e+00</td>\n",
       "      <td>7.953370e-01</td>\n",
       "      <td>4.105239e-01</td>\n",
       "    </tr>\n",
       "    <tr>\n",
       "      <th>max</th>\n",
       "      <td>8.782363e+00</td>\n",
       "      <td>4.153219e+00</td>\n",
       "      <td>2.440552e+00</td>\n",
       "      <td>3.613247</td>\n",
       "      <td>2.816558e+00</td>\n",
       "      <td>3.245951e+00</td>\n",
       "      <td>1.112534e+00</td>\n",
       "      <td>3.370167e+00</td>\n",
       "      <td>1.580328e+00</td>\n",
       "      <td>1.746265e+00</td>\n",
       "      <td>1.615528e+00</td>\n",
       "      <td>2.821379e+00</td>\n",
       "    </tr>\n",
       "  </tbody>\n",
       "</table>\n",
       "</div>"
      ],
      "text/plain": [
       "               CRIM            ZN         INDUS        CHAS           NOX  \\\n",
       "count  2.530000e+02  2.530000e+02  2.530000e+02  253.000000  2.530000e+02   \n",
       "mean   5.616939e-17 -7.021173e-18 -5.967997e-17    0.000000  2.281881e-16   \n",
       "std    1.001982e+00  1.001982e+00  1.001982e+00    1.001982  1.001982e+00   \n",
       "min   -4.896445e-01 -4.765149e-01 -1.585390e+00   -0.276759 -1.411455e+00   \n",
       "25%   -4.778570e-01 -4.765149e-01 -8.681584e-01   -0.276759 -9.555808e-01   \n",
       "50%   -4.474570e-01 -4.765149e-01 -2.232402e-01   -0.276759 -1.600349e-01   \n",
       "75%    1.132433e-01  1.022018e-01  1.017895e+00   -0.276759  6.712659e-01   \n",
       "max    8.782363e+00  4.153219e+00  2.440552e+00    3.613247  2.816558e+00   \n",
       "\n",
       "                 RM           AGE           DIS           RAD           TAX  \\\n",
       "count  2.530000e+02  2.530000e+02  2.530000e+02  2.530000e+02  2.530000e+02   \n",
       "mean  -1.011049e-15 -5.757362e-16 -2.106352e-16 -3.510587e-17  1.843058e-17   \n",
       "std    1.001982e+00  1.001982e+00  1.001982e+00  1.001982e+00  1.001982e+00   \n",
       "min   -3.742422e+00 -2.362153e+00 -1.258854e+00 -1.001348e+00 -1.284044e+00   \n",
       "25%   -5.981299e-01 -7.768940e-01 -8.206675e-01 -6.646074e-01 -7.683696e-01   \n",
       "50%   -1.456454e-01  2.894877e-01 -2.232697e-01 -5.523606e-01 -4.670769e-01   \n",
       "75%    5.432726e-01  9.014046e-01  6.066735e-01  1.580328e+00  1.485531e+00   \n",
       "max    3.245951e+00  1.112534e+00  3.370167e+00  1.580328e+00  1.746265e+00   \n",
       "\n",
       "            PTRATIO        target  \n",
       "count  2.530000e+02  2.530000e+02  \n",
       "mean   4.844610e-16  3.484257e-16  \n",
       "std    1.001982e+00  1.001982e+00  \n",
       "min   -2.667693e+00 -1.814881e+00  \n",
       "25%   -4.805161e-01 -6.609675e-01  \n",
       "50%    2.029766e-01 -1.561302e-01  \n",
       "75%    7.953370e-01  4.105239e-01  \n",
       "max    1.615528e+00  2.821379e+00  "
      ]
     },
     "execution_count": 13,
     "metadata": {},
     "output_type": "execute_result"
    }
   ],
   "source": [
    "scaler = StandardScaler().fit(boston_X_train)\n",
    "boston_X_train_scaled = pd.DataFrame(scaler.transform(boston_X_train), columns=boston_X_train.columns)\n",
    "boston_X_test_scaled = pd.DataFrame(scaler.transform(boston_X_test), columns=boston_X_train.columns)\n",
    "boston_X_train_scaled.describe()"
   ]
  },
  {
   "cell_type": "markdown",
   "id": "83bfc7f6",
   "metadata": {},
   "source": [
    "## Дерево решений"
   ]
  },
  {
   "cell_type": "code",
   "execution_count": 14,
   "id": "a0dd20d6",
   "metadata": {},
   "outputs": [],
   "source": [
    "# Гиперпараметры для оптимизации\n",
    "parameters_to_tune = {'max_depth' : np.arange(1, 6, 1), # 1-5\n",
    "                      'min_samples_leaf' : np.linspace(0.02, 0.1, 5),\n",
    "                      'max_features' : [0.2 , 0.4, 0.6, 0.8, 'auto', 'sqrt', 'log2']}"
   ]
  },
  {
   "cell_type": "code",
   "execution_count": 15,
   "id": "afe0a9f1",
   "metadata": {},
   "outputs": [
    {
     "name": "stdout",
     "output_type": "stream",
     "text": [
      "CPU times: total: 2.2 s\n",
      "Wall time: 2.19 s\n"
     ]
    },
    {
     "data": {
      "text/plain": [
       "GridSearchCV(cv=5, estimator=DecisionTreeClassifier(random_state=3),\n",
       "             param_grid={'max_depth': array([1, 2, 3, 4, 5]),\n",
       "                         'max_features': [0.2, 0.4, 0.6, 0.8, 'auto', 'sqrt',\n",
       "                                          'log2'],\n",
       "                         'min_samples_leaf': array([0.02, 0.04, 0.06, 0.08, 0.1 ])},\n",
       "             scoring='accuracy')"
      ]
     },
     "execution_count": 15,
     "metadata": {},
     "output_type": "execute_result"
    }
   ],
   "source": [
    "%%time\n",
    "# Оптимизация гиперпараметров\n",
    "dtc_gs = GridSearchCV(DecisionTreeClassifier(random_state=3),\n",
    "                      parameters_to_tune, cv=5, scoring='accuracy')\n",
    "dtc_gs.fit(boston_X_train, boston_y_train)"
   ]
  },
  {
   "cell_type": "code",
   "execution_count": 16,
   "id": "d15a022f",
   "metadata": {},
   "outputs": [
    {
     "data": {
      "text/plain": [
       "{'max_depth': 2, 'max_features': 0.6, 'min_samples_leaf': 0.02}"
      ]
     },
     "execution_count": 16,
     "metadata": {},
     "output_type": "execute_result"
    }
   ],
   "source": [
    "# Лучшее значение параметров\n",
    "dtc_gs.best_params_"
   ]
  },
  {
   "cell_type": "code",
   "execution_count": 17,
   "id": "551e6845",
   "metadata": {},
   "outputs": [
    {
     "data": {
      "text/plain": [
       "1.0"
      ]
     },
     "execution_count": 17,
     "metadata": {},
     "output_type": "execute_result"
    }
   ],
   "source": [
    "# Лучшее значение метрики\n",
    "dtc_gs.best_score_"
   ]
  },
  {
   "cell_type": "code",
   "execution_count": 18,
   "id": "92a2e37a",
   "metadata": {},
   "outputs": [
    {
     "data": {
      "text/plain": [
       "DecisionTreeClassifier(max_depth=2, max_features=0.6, min_samples_leaf=0.02,\n",
       "                       random_state=3)"
      ]
     },
     "execution_count": 18,
     "metadata": {},
     "output_type": "execute_result"
    }
   ],
   "source": [
    "# Обучение модели\n",
    "dt_classifier : DecisionTreeClassifier = dtc_gs.best_estimator_\n",
    "dt_classifier.fit(boston_X_train, boston_y_train)"
   ]
  },
  {
   "cell_type": "code",
   "execution_count": 19,
   "id": "616f6f39",
   "metadata": {},
   "outputs": [],
   "source": [
    "# Предсказания модели регрессора на основе дерева решений\n",
    "dt_pred = dt_classifier.predict(boston_X_test)"
   ]
  },
  {
   "cell_type": "markdown",
   "id": "b095546f",
   "metadata": {},
   "source": [
    "## Градиентный бустинг"
   ]
  },
  {
   "cell_type": "code",
   "execution_count": 20,
   "id": "4ad3a1dd",
   "metadata": {},
   "outputs": [],
   "source": [
    "# Гиперпараметры для оптимизации\n",
    "parameters_to_tune = {'n_estimators' : [2, 5, 10],\n",
    "                      'learning_rate': np.linspace(0.1, 0.3, 3),\n",
    "                      'min_samples_split': np.arange(2, 5, 1), # 2-4\n",
    "                      'max_depth' : np.arange(1, 5, 1)} # 1-4"
   ]
  },
  {
   "cell_type": "code",
   "execution_count": 21,
   "id": "0b51ab47",
   "metadata": {},
   "outputs": [
    {
     "name": "stdout",
     "output_type": "stream",
     "text": [
      "CPU times: total: 6.12 s\n",
      "Wall time: 6.2 s\n"
     ]
    },
    {
     "data": {
      "text/plain": [
       "GridSearchCV(cv=5, estimator=GradientBoostingClassifier(random_state=3),\n",
       "             param_grid={'learning_rate': array([0.1, 0.2, 0.3]),\n",
       "                         'max_depth': array([1, 2, 3, 4]),\n",
       "                         'min_samples_split': array([2, 3, 4]),\n",
       "                         'n_estimators': [2, 5, 10]},\n",
       "             scoring='accuracy')"
      ]
     },
     "execution_count": 21,
     "metadata": {},
     "output_type": "execute_result"
    }
   ],
   "source": [
    "%%time\n",
    "# Оптимизация гиперпараметров\n",
    "gbc_gs = GridSearchCV(GradientBoostingClassifier(random_state=3),\n",
    "                      parameters_to_tune, cv=5, scoring='accuracy')\n",
    "gbc_gs.fit(boston_X_train, boston_y_train)"
   ]
  },
  {
   "cell_type": "code",
   "execution_count": 22,
   "id": "42880417",
   "metadata": {},
   "outputs": [
    {
     "data": {
      "text/plain": [
       "{'learning_rate': 0.1,\n",
       " 'max_depth': 1,\n",
       " 'min_samples_split': 2,\n",
       " 'n_estimators': 10}"
      ]
     },
     "execution_count": 22,
     "metadata": {},
     "output_type": "execute_result"
    }
   ],
   "source": [
    "# Лучшее значение параметров\n",
    "gbc_gs.best_params_"
   ]
  },
  {
   "cell_type": "code",
   "execution_count": 23,
   "id": "8378b854",
   "metadata": {},
   "outputs": [
    {
     "data": {
      "text/plain": [
       "1.0"
      ]
     },
     "execution_count": 23,
     "metadata": {},
     "output_type": "execute_result"
    }
   ],
   "source": [
    "# Лучшее значение метрики\n",
    "gbc_gs.best_score_"
   ]
  },
  {
   "cell_type": "code",
   "execution_count": 24,
   "id": "9b327cda",
   "metadata": {},
   "outputs": [
    {
     "data": {
      "text/plain": [
       "GradientBoostingClassifier(max_depth=1, n_estimators=10, random_state=3)"
      ]
     },
     "execution_count": 24,
     "metadata": {},
     "output_type": "execute_result"
    }
   ],
   "source": [
    "# Обучение модели\n",
    "gb_classifier : GradientBoostingClassifier = gbc_gs.best_estimator_\n",
    "gb_classifier.fit(boston_X_train, boston_y_train)"
   ]
  },
  {
   "cell_type": "code",
   "execution_count": 25,
   "id": "32a696ae",
   "metadata": {},
   "outputs": [],
   "source": [
    "# Предсказания модели регрессора на основе градиентного бустинга\n",
    "gb_pred = gb_classifier.predict(boston_X_test)"
   ]
  },
  {
   "cell_type": "markdown",
   "id": "f6f4e583",
   "metadata": {},
   "source": [
    "## Оценка качества моделей"
   ]
  },
  {
   "cell_type": "code",
   "execution_count": 26,
   "id": "a98baaef",
   "metadata": {},
   "outputs": [
    {
     "name": "stdout",
     "output_type": "stream",
     "text": [
      "Дерево решений\n",
      "Accuracy: 1.0;\n",
      "Precision: 1.0;\n",
      "Recall: 1.0;\n",
      "F1-score: 1.0.\n"
     ]
    }
   ],
   "source": [
    "# Оценка качества дерева решений\n",
    "print('Дерево решений')\n",
    "print_metrics(boston_y_test, dt_pred)"
   ]
  },
  {
   "cell_type": "code",
   "execution_count": 27,
   "id": "dc158c05",
   "metadata": {},
   "outputs": [
    {
     "name": "stdout",
     "output_type": "stream",
     "text": [
      "Градиентный бустинг\n",
      "Accuracy: 1.0;\n",
      "Precision: 1.0;\n",
      "Recall: 1.0;\n",
      "F1-score: 1.0.\n"
     ]
    }
   ],
   "source": [
    "# Оценка качества градиентного бустинга\n",
    "print('Градиентный бустинг')\n",
    "print_metrics(boston_y_test, gb_pred)"
   ]
  },
  {
   "cell_type": "markdown",
   "id": "4d2daa89",
   "metadata": {},
   "source": [
    "### Построенные модели с одинаково высокой точностью решают задачу классификации. \n",
    "### Градиентный бустинг невосприимчив к переобучению."
   ]
  }
 ],
 "metadata": {
  "kernelspec": {
   "display_name": "Python 3 (ipykernel)",
   "language": "python",
   "name": "python3"
  },
  "language_info": {
   "codemirror_mode": {
    "name": "ipython",
    "version": 3
   },
   "file_extension": ".py",
   "mimetype": "text/x-python",
   "name": "python",
   "nbconvert_exporter": "python",
   "pygments_lexer": "ipython3",
   "version": "3.10.4"
  }
 },
 "nbformat": 4,
 "nbformat_minor": 5
}
