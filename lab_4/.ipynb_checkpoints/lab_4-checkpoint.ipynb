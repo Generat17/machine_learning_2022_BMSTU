{
 "cells": [
  {
   "cell_type": "markdown",
   "id": "74f47200",
   "metadata": {},
   "source": [
    "# Лабораторная работа №4. Алиев Тимур РТ5-61Б.\n",
    "# Подготовка данных"
   ]
  },
  {
   "cell_type": "code",
   "execution_count": 1,
   "id": "dc4f537b",
   "metadata": {},
   "outputs": [],
   "source": [
    "import pandas as pd\n",
    "import seaborn as sns\n",
    "import matplotlib.pyplot as plt\n",
    "import numpy as np\n",
    "from sklearn.preprocessing import PolynomialFeatures, MinMaxScaler, StandardScaler\n",
    "from sklearn.linear_model import LinearRegression, Lasso, Ridge\n",
    "from sklearn.tree import DecisionTreeRegressor, export_graphviz, export_text\n",
    "from sklearn.svm import SVR\n",
    "from sklearn.metrics import r2_score, mean_squared_error, mean_absolute_error\n",
    "from sklearn.model_selection import train_test_split, GridSearchCV\n",
    "from IPython.display import Image\n",
    "from IPython.core.display import HTML"
   ]
  },
  {
   "cell_type": "code",
   "execution_count": 2,
   "id": "c957a4f9",
   "metadata": {},
   "outputs": [
    {
     "data": {
      "text/html": [
       "<div>\n",
       "<style scoped>\n",
       "    .dataframe tbody tr th:only-of-type {\n",
       "        vertical-align: middle;\n",
       "    }\n",
       "\n",
       "    .dataframe tbody tr th {\n",
       "        vertical-align: top;\n",
       "    }\n",
       "\n",
       "    .dataframe thead th {\n",
       "        text-align: right;\n",
       "    }\n",
       "</style>\n",
       "<table border=\"1\" class=\"dataframe\">\n",
       "  <thead>\n",
       "    <tr style=\"text-align: right;\">\n",
       "      <th></th>\n",
       "      <th>fixed acidity</th>\n",
       "      <th>volatile acidity</th>\n",
       "      <th>citric acid</th>\n",
       "      <th>residual sugar</th>\n",
       "      <th>chlorides</th>\n",
       "      <th>free sulfur dioxide</th>\n",
       "      <th>total sulfur dioxide</th>\n",
       "      <th>density</th>\n",
       "      <th>pH</th>\n",
       "      <th>sulphates</th>\n",
       "      <th>alcohol</th>\n",
       "      <th>quality</th>\n",
       "      <th>Id</th>\n",
       "    </tr>\n",
       "  </thead>\n",
       "  <tbody>\n",
       "    <tr>\n",
       "      <th>0</th>\n",
       "      <td>7.4</td>\n",
       "      <td>0.70</td>\n",
       "      <td>0.00</td>\n",
       "      <td>1.9</td>\n",
       "      <td>0.076</td>\n",
       "      <td>11.0</td>\n",
       "      <td>34.0</td>\n",
       "      <td>0.9978</td>\n",
       "      <td>3.51</td>\n",
       "      <td>0.56</td>\n",
       "      <td>9.4</td>\n",
       "      <td>5</td>\n",
       "      <td>0</td>\n",
       "    </tr>\n",
       "    <tr>\n",
       "      <th>1</th>\n",
       "      <td>7.8</td>\n",
       "      <td>0.88</td>\n",
       "      <td>0.00</td>\n",
       "      <td>2.6</td>\n",
       "      <td>0.098</td>\n",
       "      <td>25.0</td>\n",
       "      <td>67.0</td>\n",
       "      <td>0.9968</td>\n",
       "      <td>3.20</td>\n",
       "      <td>0.68</td>\n",
       "      <td>9.8</td>\n",
       "      <td>5</td>\n",
       "      <td>1</td>\n",
       "    </tr>\n",
       "    <tr>\n",
       "      <th>2</th>\n",
       "      <td>7.8</td>\n",
       "      <td>0.76</td>\n",
       "      <td>0.04</td>\n",
       "      <td>2.3</td>\n",
       "      <td>0.092</td>\n",
       "      <td>15.0</td>\n",
       "      <td>54.0</td>\n",
       "      <td>0.9970</td>\n",
       "      <td>3.26</td>\n",
       "      <td>0.65</td>\n",
       "      <td>9.8</td>\n",
       "      <td>5</td>\n",
       "      <td>2</td>\n",
       "    </tr>\n",
       "    <tr>\n",
       "      <th>3</th>\n",
       "      <td>11.2</td>\n",
       "      <td>0.28</td>\n",
       "      <td>0.56</td>\n",
       "      <td>1.9</td>\n",
       "      <td>0.075</td>\n",
       "      <td>17.0</td>\n",
       "      <td>60.0</td>\n",
       "      <td>0.9980</td>\n",
       "      <td>3.16</td>\n",
       "      <td>0.58</td>\n",
       "      <td>9.8</td>\n",
       "      <td>6</td>\n",
       "      <td>3</td>\n",
       "    </tr>\n",
       "    <tr>\n",
       "      <th>4</th>\n",
       "      <td>7.4</td>\n",
       "      <td>0.70</td>\n",
       "      <td>0.00</td>\n",
       "      <td>1.9</td>\n",
       "      <td>0.076</td>\n",
       "      <td>11.0</td>\n",
       "      <td>34.0</td>\n",
       "      <td>0.9978</td>\n",
       "      <td>3.51</td>\n",
       "      <td>0.56</td>\n",
       "      <td>9.4</td>\n",
       "      <td>5</td>\n",
       "      <td>4</td>\n",
       "    </tr>\n",
       "  </tbody>\n",
       "</table>\n",
       "</div>"
      ],
      "text/plain": [
       "   fixed acidity  volatile acidity  citric acid  residual sugar  chlorides  \\\n",
       "0            7.4              0.70         0.00             1.9      0.076   \n",
       "1            7.8              0.88         0.00             2.6      0.098   \n",
       "2            7.8              0.76         0.04             2.3      0.092   \n",
       "3           11.2              0.28         0.56             1.9      0.075   \n",
       "4            7.4              0.70         0.00             1.9      0.076   \n",
       "\n",
       "   free sulfur dioxide  total sulfur dioxide  density    pH  sulphates  \\\n",
       "0                 11.0                  34.0   0.9978  3.51       0.56   \n",
       "1                 25.0                  67.0   0.9968  3.20       0.68   \n",
       "2                 15.0                  54.0   0.9970  3.26       0.65   \n",
       "3                 17.0                  60.0   0.9980  3.16       0.58   \n",
       "4                 11.0                  34.0   0.9978  3.51       0.56   \n",
       "\n",
       "   alcohol  quality  Id  \n",
       "0      9.4        5   0  \n",
       "1      9.8        5   1  \n",
       "2      9.8        5   2  \n",
       "3      9.8        6   3  \n",
       "4      9.4        5   4  "
      ]
     },
     "execution_count": 2,
     "metadata": {},
     "output_type": "execute_result"
    }
   ],
   "source": [
    "data = pd.read_csv('WineQT.csv')\n",
    "data.head()"
   ]
  },
  {
   "cell_type": "code",
   "execution_count": 3,
   "id": "a1b0efca",
   "metadata": {},
   "outputs": [
    {
     "data": {
      "text/plain": [
       "density    0.494727\n",
       "quality    0.484866\n",
       "Name: alcohol, dtype: float64"
      ]
     },
     "execution_count": 3,
     "metadata": {},
     "output_type": "execute_result"
    }
   ],
   "source": [
    "# Корреляция с алкоголем по модулю - top\n",
    "best_params = data.corr()['alcohol'].map(abs).sort_values(ascending=False)[1:]\n",
    "best_params = best_params[best_params.values > 0.35]\n",
    "best_params"
   ]
  },
  {
   "cell_type": "markdown",
   "id": "31045c7b",
   "metadata": {},
   "source": [
    "# Разделение выборки на обучающую и тестовую"
   ]
  },
  {
   "cell_type": "code",
   "execution_count": 4,
   "id": "9749846d",
   "metadata": {},
   "outputs": [],
   "source": [
    "x_train, x_test, y_train, y_test = train_test_split(data[best_params.index], data['alcohol'], test_size=0.3, random_state=3)"
   ]
  },
  {
   "cell_type": "markdown",
   "id": "39be42eb",
   "metadata": {},
   "source": [
    "# Обучение моделей\n",
    "\n",
    "## 1) Линейная регрессия"
   ]
  },
  {
   "cell_type": "code",
   "execution_count": 5,
   "id": "c89fe45b",
   "metadata": {},
   "outputs": [
    {
     "name": "stdout",
     "output_type": "stream",
     "text": [
      "R^2: 0.4537565878619284\n",
      "MSE: 0.6403004607616753\n",
      "MAE: 0.6514450393971108\n"
     ]
    }
   ],
   "source": [
    "def print_metrics(y_test, y_pred):\n",
    "    print(f\"R^2: {r2_score(y_test, y_pred)}\")\n",
    "    print(f\"MSE: {mean_squared_error(y_test, y_pred)}\")\n",
    "    print(f\"MAE: {mean_absolute_error(y_test, y_pred)}\")\n",
    "\n",
    "linear_model = LinearRegression()\n",
    "linear_model.fit(x_train, y_train)\n",
    "y_pred_linear = linear_model.predict(x_test)\n",
    "print_metrics(y_test, y_pred_linear)"
   ]
  },
  {
   "cell_type": "markdown",
   "id": "9e314d59",
   "metadata": {},
   "source": [
    "## 2) Пополиномиальная регрессия"
   ]
  },
  {
   "cell_type": "code",
   "execution_count": 6,
   "id": "7691810b",
   "metadata": {},
   "outputs": [
    {
     "name": "stdout",
     "output_type": "stream",
     "text": [
      "R^2: 0.5045011976737863\n",
      "MSE: 0.5808181927439674\n",
      "MAE: 0.5979541713845272\n"
     ]
    }
   ],
   "source": [
    "poly_model = PolynomialFeatures(degree=3)\n",
    "x_train_poly = poly_model.fit_transform(x_train)\n",
    "x_test_poly = poly_model.fit_transform(x_test)\n",
    "linear_model = LinearRegression()\n",
    "linear_model.fit(x_train_poly, y_train)\n",
    "y_pred_poly = linear_model.predict(x_test_poly)\n",
    "print_metrics(y_test, y_pred_poly)"
   ]
  },
  {
   "cell_type": "markdown",
   "id": "c1707cd0",
   "metadata": {},
   "source": [
    "## 3) SVM"
   ]
  },
  {
   "cell_type": "code",
   "execution_count": 7,
   "id": "edeba06e",
   "metadata": {},
   "outputs": [
    {
     "data": {
      "text/html": [
       "<div>\n",
       "<style scoped>\n",
       "    .dataframe tbody tr th:only-of-type {\n",
       "        vertical-align: middle;\n",
       "    }\n",
       "\n",
       "    .dataframe tbody tr th {\n",
       "        vertical-align: top;\n",
       "    }\n",
       "\n",
       "    .dataframe thead th {\n",
       "        text-align: right;\n",
       "    }\n",
       "</style>\n",
       "<table border=\"1\" class=\"dataframe\">\n",
       "  <thead>\n",
       "    <tr style=\"text-align: right;\">\n",
       "      <th></th>\n",
       "      <th>density</th>\n",
       "      <th>quality</th>\n",
       "    </tr>\n",
       "  </thead>\n",
       "  <tbody>\n",
       "    <tr>\n",
       "      <th>count</th>\n",
       "      <td>8.000000e+02</td>\n",
       "      <td>8.000000e+02</td>\n",
       "    </tr>\n",
       "    <tr>\n",
       "      <th>mean</th>\n",
       "      <td>-7.923662e-15</td>\n",
       "      <td>-5.240253e-16</td>\n",
       "    </tr>\n",
       "    <tr>\n",
       "      <th>std</th>\n",
       "      <td>1.000626e+00</td>\n",
       "      <td>1.000626e+00</td>\n",
       "    </tr>\n",
       "    <tr>\n",
       "      <th>min</th>\n",
       "      <td>-3.396295e+00</td>\n",
       "      <td>-3.330798e+00</td>\n",
       "    </tr>\n",
       "    <tr>\n",
       "      <th>25%</th>\n",
       "      <td>-6.281010e-01</td>\n",
       "      <td>-8.038767e-01</td>\n",
       "    </tr>\n",
       "    <tr>\n",
       "      <th>50%</th>\n",
       "      <td>-1.634535e-02</td>\n",
       "      <td>4.595838e-01</td>\n",
       "    </tr>\n",
       "    <tr>\n",
       "      <th>75%</th>\n",
       "      <td>5.750184e-01</td>\n",
       "      <td>4.595838e-01</td>\n",
       "    </tr>\n",
       "    <tr>\n",
       "      <th>max</th>\n",
       "      <td>3.271841e+00</td>\n",
       "      <td>2.986505e+00</td>\n",
       "    </tr>\n",
       "  </tbody>\n",
       "</table>\n",
       "</div>"
      ],
      "text/plain": [
       "            density       quality\n",
       "count  8.000000e+02  8.000000e+02\n",
       "mean  -7.923662e-15 -5.240253e-16\n",
       "std    1.000626e+00  1.000626e+00\n",
       "min   -3.396295e+00 -3.330798e+00\n",
       "25%   -6.281010e-01 -8.038767e-01\n",
       "50%   -1.634535e-02  4.595838e-01\n",
       "75%    5.750184e-01  4.595838e-01\n",
       "max    3.271841e+00  2.986505e+00"
      ]
     },
     "execution_count": 7,
     "metadata": {},
     "output_type": "execute_result"
    }
   ],
   "source": [
    "scaler = StandardScaler().fit(x_train)\n",
    "x_train_scaled = pd.DataFrame(scaler.transform(x_train), columns=x_train.columns)\n",
    "x_test_scaled = pd.DataFrame(scaler.transform(x_test), columns=x_train.columns)\n",
    "x_train_scaled.describe()"
   ]
  },
  {
   "cell_type": "code",
   "execution_count": 8,
   "id": "e05f3eaa",
   "metadata": {},
   "outputs": [
    {
     "name": "stdout",
     "output_type": "stream",
     "text": [
      "{'C': 1.9000000000000001}\n"
     ]
    }
   ],
   "source": [
    "params = {'C': np.concatenate([np.arange(0.1, 2, 0.1), np.arange(2, 15, 1)])}\n",
    "svm_model = SVR(kernel='linear')\n",
    "grid_cv = GridSearchCV(estimator=svm_model, param_grid=params, cv=10, n_jobs=-1, scoring='r2')\n",
    "grid_cv.fit(x_train_scaled, y_train)\n",
    "print(grid_cv.best_params_)"
   ]
  },
  {
   "cell_type": "code",
   "execution_count": 9,
   "id": "1fe8d30f",
   "metadata": {},
   "outputs": [
    {
     "name": "stdout",
     "output_type": "stream",
     "text": [
      "R^2: 0.44738317687446305\n",
      "MSE: 0.647771302333795\n",
      "MAE: 0.6408125766617059\n"
     ]
    }
   ],
   "source": [
    "best_svm_model = grid_cv.best_estimator_\n",
    "best_svm_model = SVR(kernel='linear', C=11)\n",
    "best_svm_model.fit(x_train_scaled, y_train)\n",
    "y_pred_svm = best_svm_model.predict(x_test_scaled)\n",
    "print_metrics(y_test, y_pred_svm)"
   ]
  },
  {
   "cell_type": "markdown",
   "id": "cc2bd3eb",
   "metadata": {},
   "source": [
    "## 4) Дерево решений"
   ]
  },
  {
   "cell_type": "code",
   "execution_count": 10,
   "id": "0c2c258f",
   "metadata": {},
   "outputs": [
    {
     "name": "stdout",
     "output_type": "stream",
     "text": [
      "{'min_samples_leaf': 28}\n"
     ]
    }
   ],
   "source": [
    "params = {'min_samples_leaf': range(3, 30)}\n",
    "tree = DecisionTreeRegressor(random_state=3)\n",
    "grid_cv = GridSearchCV(estimator=tree, cv=5, param_grid=params, n_jobs=-1, scoring='neg_mean_absolute_error')\n",
    "grid_cv.fit(x_train, y_train)\n",
    "print(grid_cv.best_params_)"
   ]
  },
  {
   "cell_type": "code",
   "execution_count": 11,
   "id": "d2d7f364",
   "metadata": {
    "scrolled": true
   },
   "outputs": [
    {
     "name": "stdout",
     "output_type": "stream",
     "text": [
      "R^2: 0.48707752514637803\n",
      "MSE: 0.6012420281615745\n",
      "MAE: 0.614506439367307\n"
     ]
    }
   ],
   "source": [
    "best_tree = grid_cv.best_estimator_\n",
    "best_tree.fit(x_train, y_train)\n",
    "y_pred_tree = best_tree.predict(x_test)\n",
    "print_metrics(y_test, y_pred_tree)"
   ]
  },
  {
   "cell_type": "markdown",
   "id": "3ca9c75d",
   "metadata": {},
   "source": [
    "# Важность признаков в дереве решений"
   ]
  },
  {
   "cell_type": "code",
   "execution_count": 12,
   "id": "c6c09660",
   "metadata": {},
   "outputs": [
    {
     "name": "stdout",
     "output_type": "stream",
     "text": [
      "Важность признаков в дереве решений\n",
      "\n",
      "density: 0.81\n",
      "quality: 0.19\n"
     ]
    }
   ],
   "source": [
    "importances = pd.DataFrame(data=zip(x_train.columns, best_tree.feature_importances_), columns=['Признак', 'Важность'])\n",
    "print('Важность признаков в дереве решений\\n')\n",
    "for row in importances.sort_values(by='Важность', ascending=False).values:\n",
    "    print(f'{row[0]}: {round(row[1], 3)}')"
   ]
  },
  {
   "cell_type": "code",
   "execution_count": 13,
   "id": "2c070082",
   "metadata": {},
   "outputs": [
    {
     "data": {
      "image/png": "[encoded data removed]",
      "text/plain": [
       "<Figure size 864x288 with 1 Axes>"
      ]
     },
     "metadata": {
      "needs_background": "light"
     },
     "output_type": "display_data"
    }
   ],
   "source": [
    "plt.figure(figsize=(12, 4))\n",
    "sns.barplot(data=importances.sort_values(by='Важность', ascending=False), y='Признак', x='Важность', orient='h', )\n",
    "plt.title('Важность признаков в дереве решений')\n",
    "plt.show()"
   ]
  },
  {
   "cell_type": "markdown",
   "id": "51b42442",
   "metadata": {},
   "source": [
    "# Сравнение моделей"
   ]
  },
  {
   "cell_type": "code",
   "execution_count": 14,
   "id": "17974f86",
   "metadata": {},
   "outputs": [
    {
     "name": "stdout",
     "output_type": "stream",
     "text": [
      "Линейная регрессия\n",
      "R^2: 0.4537565878619284\n",
      "MSE: 0.6403004607616753\n",
      "MAE: 0.6514450393971108\n",
      "\n",
      "Полиномиальная регрессия\n",
      "R^2: 0.5045011976737863\n",
      "MSE: 0.5808181927439674\n",
      "MAE: 0.5979541713845272\n",
      "\n",
      "Метод опорных векторов\n",
      "R^2: 0.44738317687446305\n",
      "MSE: 0.647771302333795\n",
      "MAE: 0.6408125766617059\n",
      "\n",
      "Дерево решений\n",
      "R^2: 0.48707752514637803\n",
      "MSE: 0.6012420281615745\n",
      "MAE: 0.614506439367307\n"
     ]
    }
   ],
   "source": [
    "print('Линейная регрессия')\n",
    "print_metrics(y_test, y_pred_linear)\n",
    "\n",
    "print('\\nПолиномиальная регрессия')\n",
    "print_metrics(y_test, y_pred_poly)\n",
    "\n",
    "print('\\nМетод опорных векторов')\n",
    "print_metrics(y_test, y_pred_svm)\n",
    "\n",
    "print('\\nДерево решений')\n",
    "print_metrics(y_test, y_pred_tree)"
   ]
  }
 ],
 "metadata": {
  "kernelspec": {
   "display_name": "Python 3 (ipykernel)",
   "language": "python",
   "name": "python3"
  },
  "language_info": {
   "codemirror_mode": {
    "name": "ipython",
    "version": 3
   },
   "file_extension": ".py",
   "mimetype": "text/x-python",
   "name": "python",
   "nbconvert_exporter": "python",
   "pygments_lexer": "ipython3",
   "version": "3.10.2"
  }
 },
 "nbformat": 4,
 "nbformat_minor": 5
}
